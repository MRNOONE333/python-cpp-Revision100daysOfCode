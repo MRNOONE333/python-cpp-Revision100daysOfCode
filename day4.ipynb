{
 "cells": [
  {
   "cell_type": "markdown",
   "id": "5d004fcf",
   "metadata": {},
   "source": [
    "## Pattern-2\n",
    "\n",
    "-  Note Only make the structure bad ki dekhi jayegi."
   ]
  },
  {
   "cell_type": "code",
   "execution_count": 4,
   "id": "2678b4b4",
   "metadata": {},
   "outputs": [
    {
     "name": "stdout",
     "output_type": "stream",
     "text": [
      "4\n",
      "o o o o \n",
      "o o o o \n",
      "o o o o \n",
      "o o o o \n"
     ]
    }
   ],
   "source": [
    "#practice of  previous\n",
    "\n",
    "n = int(input())\n",
    "\n",
    "i = 1\n",
    "while (i <= n) :\n",
    "    j = 1\n",
    "    while (j<=n) :\n",
    "        print('o',end =' ')\n",
    "        j+= 1\n",
    "    print()\n",
    "    i+=1"
   ]
  },
  {
   "cell_type": "code",
   "execution_count": 1,
   "id": "f33b7a3a",
   "metadata": {},
   "outputs": [
    {
     "name": "stdout",
     "output_type": "stream",
     "text": [
      "4\n",
      "0     -1     -2     -3     \n",
      "1     0     -1     -2     \n",
      "2     1     0     -1     \n",
      "3     2     1     0     \n"
     ]
    },
    {
     "data": {
      "text/plain": [
       "int"
      ]
     },
     "execution_count": 1,
     "metadata": {},
     "output_type": "execute_result"
    }
   ],
   "source": [
    "#practice of  previous\n",
    "\n",
    "n = int(input())\n",
    "\n",
    "i = 1\n",
    "while (i <= n) :\n",
    "    j = 1\n",
    "    while (j<=n) :\n",
    "        print(i-j,end ='     ')\n",
    "        j+= 1\n",
    "    print()\n",
    "    i+=1\n",
    "    \n",
    "    \n",
    "type(i)"
   ]
  },
  {
   "cell_type": "code",
   "execution_count": 22,
   "id": "09b86596",
   "metadata": {},
   "outputs": [
    {
     "name": "stdout",
     "output_type": "stream",
     "text": [
      "Enter a number: 4\n",
      "0 -1 -2 -3 \n",
      "1 0 -1 -2 \n",
      "2 1 0 -1 \n",
      "3 2 1 0 \n"
     ]
    }
   ],
   "source": [
    "n = int(input(\"Enter a number: \"))\n",
    "\n",
    "for i in range(n):\n",
    "    for j in range(n):\n",
    "        print(i-j, end=' ')\n",
    "    print()\n",
    "\n",
    "    "
   ]
  },
  {
   "cell_type": "markdown",
   "id": "56054e96",
   "metadata": {},
   "source": [
    "## To do later - "
   ]
  },
  {
   "cell_type": "code",
   "execution_count": 19,
   "id": "f4ab00e2",
   "metadata": {},
   "outputs": [
    {
     "name": "stdout",
     "output_type": "stream",
     "text": [
      "Enter a number: 4\n",
      "     0     -1     -2     -3 \n",
      "     1      0     -1     -2 \n",
      "     2      1      0     -1 \n",
      "     3      2      1      0 \n"
     ]
    },
    {
     "data": {
      "text/plain": [
       "int"
      ]
     },
     "execution_count": 19,
     "metadata": {},
     "output_type": "execute_result"
    }
   ],
   "source": [
    "n = int(input(\"Enter a number: \"))\n",
    "\n",
    "for i in range(n):\n",
    "    for j in range(n):\n",
    "        result= i - j\n",
    "        print(f'{result:6}', end=' ')\n",
    "    print()\n",
    "\n",
    "    \n",
    "type(result)"
   ]
  },
  {
   "cell_type": "code",
   "execution_count": 23,
   "id": "4e9c1b38",
   "metadata": {},
   "outputs": [
    {
     "name": "stdout",
     "output_type": "stream",
     "text": [
      "Enter a number: 4\n",
      "     0     -1     -2     -3 \n",
      "     1      0     -1     -2 \n",
      "     2      1      0     -1 \n",
      "     3      2      1      0 \n"
     ]
    }
   ],
   "source": [
    "n = int(input(\"Enter a number: \"))\n",
    "\n",
    "for i in range(n):\n",
    "    for j in range(n):\n",
    "        print(f'{(i - j):6}', end=' ')\n",
    "    print()\n"
   ]
  },
  {
   "cell_type": "code",
   "execution_count": 39,
   "id": "320f00eb",
   "metadata": {},
   "outputs": [
    {
     "name": "stdout",
     "output_type": "stream",
     "text": [
      "4\n",
      "* * * * \n",
      "* * * \n",
      "* * \n",
      "* \n"
     ]
    }
   ],
   "source": [
    "\n",
    "n = int(input())\n",
    "i=1\n",
    "while i<=n:\n",
    "    j=1\n",
    "    while j<=n-i+1:\n",
    "        print('*' ,end = ' ')\n",
    "        j=j+1\n",
    "    print()\n",
    "    i=i+1"
   ]
  },
  {
   "cell_type": "code",
   "execution_count": 42,
   "id": "c8db9d78",
   "metadata": {},
   "outputs": [
    {
     "name": "stdout",
     "output_type": "stream",
     "text": [
      "4\n",
      "4 3 2 1 \n",
      "4 3 2 \n",
      "4 3 \n",
      "4 \n"
     ]
    }
   ],
   "source": [
    "# n-j+1\n",
    "n = int(input())\n",
    "i=1\n",
    "while i<=n:\n",
    "    j=1\n",
    "    while j<=n-i+1:\n",
    "        print(n-j+1 ,end = ' ')\n",
    "        j=j+1\n",
    "    print()\n",
    "    i=i+1"
   ]
  },
  {
   "cell_type": "code",
   "execution_count": 44,
   "id": "654699db",
   "metadata": {},
   "outputs": [
    {
     "name": "stdout",
     "output_type": "stream",
     "text": [
      "4\n",
      "1 1 1 1 \n",
      "2 2 2 \n",
      "3 3 \n",
      "4 \n"
     ]
    }
   ],
   "source": [
    "# n-j+1\n",
    "n = int(input())\n",
    "i=1\n",
    "while i<=n:\n",
    "    j=1\n",
    "    while j<=n-i+1:\n",
    "        print(i ,end = ' ')\n",
    "        j=j+1\n",
    "    print()\n",
    "    i=i+1"
   ]
  },
  {
   "cell_type": "code",
   "execution_count": 63,
   "id": "fcd2b551",
   "metadata": {},
   "outputs": [
    {
     "name": "stdout",
     "output_type": "stream",
     "text": [
      "4\n",
      "   *\n",
      "  **\n",
      " ***\n",
      "****\n"
     ]
    }
   ],
   "source": [
    "n  =int(input())\n",
    "\n",
    "i= 1\n",
    "while i<=n:\n",
    "    space=1\n",
    "    while (space<= (n-i)):\n",
    "        print( \" \", end='')\n",
    "        space+=1\n",
    "    j=1\n",
    "    while j<=i:\n",
    "        print('*' ,end='')\n",
    "        j+=1\n",
    "    print()\n",
    "    i+=1"
   ]
  },
  {
   "cell_type": "code",
   "execution_count": 64,
   "id": "94a49f54",
   "metadata": {},
   "outputs": [
    {
     "name": "stdout",
     "output_type": "stream",
     "text": [
      "4\n",
      "   *       \n",
      "  *       *       \n",
      " *       *       *       \n",
      "*       *       *       *       \n"
     ]
    }
   ],
   "source": [
    "## same code with spaces\n",
    "\n",
    "n  =int(input())\n",
    "\n",
    "i= 1\n",
    "while i<=n:\n",
    "    space=1\n",
    "    while (space<= (n-i)):\n",
    "        print( \" \", end='')\n",
    "        space+=1\n",
    "    j=1\n",
    "    while j<=i:\n",
    "        print('*' ,end='       ')\n",
    "        j+=1\n",
    "    print()\n",
    "    i+=1"
   ]
  },
  {
   "cell_type": "code",
   "execution_count": 65,
   "id": "1b70e3f2",
   "metadata": {},
   "outputs": [
    {
     "name": "stdout",
     "output_type": "stream",
     "text": [
      "4\n",
      "   1\n",
      "  12\n",
      " 123\n",
      "1234\n"
     ]
    }
   ],
   "source": [
    "n  =int(input())\n",
    "\n",
    "i= 1\n",
    "while i<=n:\n",
    "    space=1\n",
    "    while (space<= (n-i)):\n",
    "        print( \" \", end='')\n",
    "        space+=1\n",
    "    j=1\n",
    "    while j<=i:\n",
    "        print(j ,end='')\n",
    "        j+=1\n",
    "    print()\n",
    "    i+=1"
   ]
  },
  {
   "attachments": {
    "image.png": {
     "image/png": "[encoded data removed]"
    }
   },
   "cell_type": "markdown",
   "id": "bb9aeb29",
   "metadata": {},
   "source": [
    "## k is imp logic\n",
    "\n",
    "\n",
    "![image.png](attachment:image.png)"
   ]
  },
  {
   "cell_type": "code",
   "execution_count": 93,
   "id": "5346774c",
   "metadata": {},
   "outputs": [
    {
     "name": "stdout",
     "output_type": "stream",
     "text": [
      "4\n",
      "   1\n",
      "  121\n",
      " 12321\n",
      "1234321\n"
     ]
    }
   ],
   "source": [
    "n  =int(input())\n",
    "\n",
    "i= 1\n",
    "while i<=n:\n",
    "    space=1\n",
    "    while (space<= (n-i)):\n",
    "        print( \" \", end='')\n",
    "        space+=1\n",
    "    j=1\n",
    "    while j<=i:\n",
    "        print(j ,end='')\n",
    "        j+=1\n",
    "    k=i-1\n",
    "    while k>=1:\n",
    "        print(k,end ='')\n",
    "        k-=1\n",
    "    print()\n",
    "    i+=1\n",
    "    \n",
    "# k is imp logic"
   ]
  },
  {
   "cell_type": "code",
   "execution_count": 95,
   "id": "e3b6bb58",
   "metadata": {},
   "outputs": [
    {
     "name": "stdout",
     "output_type": "stream",
     "text": [
      "4\n",
      "   1\n",
      "  121\n",
      " 12322\n",
      "1234333\n"
     ]
    }
   ],
   "source": [
    "n = int(input())\n",
    "\n",
    "i = 1\n",
    "while i <= n:\n",
    "    space = 1\n",
    "    while space <= (n - i):\n",
    "        print(\" \", end='')\n",
    "        space += 1\n",
    "\n",
    "    j = 1\n",
    "    while j <= i:\n",
    "        print(j, end='')\n",
    "        j += 1\n",
    "\n",
    "    j = i - 1  # Start from i-1 for the second part of the row\n",
    "    while j >= 1:\n",
    "        print(i - 1, end='')  # Replace j with i-1\n",
    "        j -= 1\n",
    "\n",
    "    print()\n",
    "    i += 1\n"
   ]
  },
  {
   "cell_type": "code",
   "execution_count": null,
   "id": "5c079abb",
   "metadata": {},
   "outputs": [],
   "source": []
  }
 ],
 "metadata": {
  "kernelspec": {
   "display_name": "Python 3 (ipykernel)",
   "language": "python",
   "name": "python3"
  },
  "language_info": {
   "codemirror_mode": {
    "name": "ipython",
    "version": 3
   },
   "file_extension": ".py",
   "mimetype": "text/x-python",
   "name": "python",
   "nbconvert_exporter": "python",
   "pygments_lexer": "ipython3",
   "version": "3.10.9"
  }
 },
 "nbformat": 4,
 "nbformat_minor": 5
}
