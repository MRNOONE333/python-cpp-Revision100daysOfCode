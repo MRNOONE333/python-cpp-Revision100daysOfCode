{
 "cells": [
  {
   "cell_type": "code",
   "execution_count": 5,
   "id": "75652e27",
   "metadata": {
    "scrolled": true
   },
   "outputs": [
    {
     "name": "stdout",
     "output_type": "stream",
     "text": [
      "hello\n",
      "hello7jupyter lab\n"
     ]
    }
   ],
   "source": [
    "print('hello')\n",
    "print('hello7jupyter lab')"
   ]
  },
  {
   "cell_type": "markdown",
   "id": "c3ee42fb",
   "metadata": {},
   "source": [
    "# var"
   ]
  },
  {
   "cell_type": "code",
   "execution_count": 3,
   "id": "d978058a",
   "metadata": {},
   "outputs": [
    {
     "data": {
      "text/plain": [
       "int"
      ]
     },
     "execution_count": 3,
     "metadata": {},
     "output_type": "execute_result"
    }
   ],
   "source": [
    "a=10\n",
    "type(a)"
   ]
  },
  {
   "cell_type": "code",
   "execution_count": 4,
   "id": "6ed6ddea",
   "metadata": {},
   "outputs": [
    {
     "name": "stdout",
     "output_type": "stream",
     "text": [
      "<class 'str'>\n"
     ]
    }
   ],
   "source": [
    "a= 'abc'\n",
    "print(type(a))"
   ]
  },
  {
   "cell_type": "markdown",
   "id": "37cb7a5e",
   "metadata": {},
   "source": [
    "## same address 2 var."
   ]
  },
  {
   "cell_type": "code",
   "execution_count": 5,
   "id": "0ee51f08",
   "metadata": {},
   "outputs": [
    {
     "data": {
      "text/plain": [
       "1684677173040"
      ]
     },
     "execution_count": 5,
     "metadata": {},
     "output_type": "execute_result"
    }
   ],
   "source": [
    "id (a)"
   ]
  },
  {
   "cell_type": "code",
   "execution_count": 6,
   "id": "a6daadda",
   "metadata": {},
   "outputs": [
    {
     "data": {
      "text/plain": [
       "1684677173040"
      ]
     },
     "execution_count": 6,
     "metadata": {},
     "output_type": "execute_result"
    }
   ],
   "source": [
    "b='abc'\n",
    "id(b)"
   ]
  },
  {
   "cell_type": "markdown",
   "id": "62931970",
   "metadata": {},
   "source": [
    "## Airtmetic"
   ]
  },
  {
   "cell_type": "code",
   "execution_count": 7,
   "id": "f0fd26b6",
   "metadata": {},
   "outputs": [
    {
     "data": {
      "text/plain": [
       "256"
      ]
     },
     "execution_count": 7,
     "metadata": {},
     "output_type": "execute_result"
    }
   ],
   "source": [
    "# b*b*b*b (a)times\n",
    "# b^a\n",
    "a=4\n",
    "b=4\n",
    "b**a\n"
   ]
  },
  {
   "cell_type": "code",
   "execution_count": 8,
   "id": "965dfef0",
   "metadata": {},
   "outputs": [
    {
     "name": "stdout",
     "output_type": "stream",
     "text": [
      "37.77777777777778\n",
      "37\n"
     ]
    }
   ],
   "source": [
    "f=100\n",
    "c=(f-32)* 5/9\n",
    "print(c)\n",
    "c=(f-32)* 5//9\n",
    "print(c)"
   ]
  },
  {
   "cell_type": "markdown",
   "id": "3b2b0dc9",
   "metadata": {},
   "source": [
    "## Input"
   ]
  },
  {
   "cell_type": "code",
   "execution_count": 2,
   "id": "d4aae4bf",
   "metadata": {},
   "outputs": [
    {
     "name": "stdout",
     "output_type": "stream",
     "text": [
      " srht\n",
      " gfb\n"
     ]
    },
    {
     "data": {
      "text/plain": [
       "'srhtgfb'"
      ]
     },
     "execution_count": 2,
     "metadata": {},
     "output_type": "execute_result"
    }
   ],
   "source": [
    "a= input()\n",
    "b= input()\n",
    "a+b\n",
    "\n",
    "# Takes as string"
   ]
  },
  {
   "cell_type": "code",
   "execution_count": null,
   "id": "a28c8666",
   "metadata": {},
   "outputs": [],
   "source": [
    "a= int(input())\n",
    "b= int(input())\n",
    "a+b"
   ]
  },
  {
   "cell_type": "code",
   "execution_count": null,
   "id": "7e2c8001",
   "metadata": {},
   "outputs": [],
   "source": [
    "a= str(input())\n",
    "b= str(input())\n",
    "a+b"
   ]
  },
  {
   "cell_type": "code",
   "execution_count": null,
   "id": "56fc434b",
   "metadata": {},
   "outputs": [],
   "source": [
    "f= int(input())\n",
    "c=(f-32)* 5/9\n",
    "print(c)\n",
    "c=(f-32)* 5//9\n",
    "print(c)"
   ]
  }
 ],
 "metadata": {
  "kernelspec": {
   "display_name": "Python 3 (ipykernel)",
   "language": "python",
   "name": "python3"
  },
  "language_info": {
   "codemirror_mode": {
    "name": "ipython",
    "version": 3
   },
   "file_extension": ".py",
   "mimetype": "text/x-python",
   "name": "python",
   "nbconvert_exporter": "python",
   "pygments_lexer": "ipython3",
   "version": "3.10.9"
  }
 },
 "nbformat": 4,
 "nbformat_minor": 5
}
