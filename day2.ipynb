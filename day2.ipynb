{
 "cells": [
  {
   "cell_type": "code",
   "execution_count": null,
   "metadata": {},
   "outputs": [],
   "source": [
    "# elif....  "
   ]
  },
  {
   "cell_type": "code",
   "execution_count": null,
   "metadata": {},
   "outputs": [
    {
     "name": "stdout",
     "output_type": "stream",
     "text": [
      "1\n",
      "7\n",
      "none even\n"
     ]
    }
   ],
   "source": [
    "n= int(input())\n",
    "m= int(input())\n",
    "\n",
    "if n%2==0:\n",
    "    if m%2==0:\n",
    "        print('both even')\n",
    "    else:\n",
    "        print('only first even')\n",
    "elif m%2==0:\n",
    "        print('only second even')\n",
    "else:\n",
    "    print('none even')\n",
    "# printed only for m, n ki condition met ho gai thi."
   ]
  },
  {
   "cell_type": "markdown",
   "metadata": {},
   "source": [
    "## while loop"
   ]
  },
  {
   "cell_type": "code",
   "execution_count": null,
   "metadata": {},
   "outputs": [],
   "source": [
    "n= int(input())\n",
    "count =1\n",
    "while count<=n:\n",
    "    print(count)\n",
    "# infine run "
   ]
  },
  {
   "cell_type": "code",
   "execution_count": null,
   "metadata": {},
   "outputs": [],
   "source": [
    "n= int(input())\n",
    "count =1\n",
    "while count<=n:\n",
    "    print(count)\n",
    "    count=count+1"
   ]
  },
  {
   "cell_type": "code",
   "execution_count": null,
   "metadata": {},
   "outputs": [
    {
     "name": "stdout",
     "output_type": "stream",
     "text": [
      "5\n",
      "prime\n"
     ]
    }
   ],
   "source": [
    "n = int(input())\n",
    "m = n - 1\n",
    "\n",
    "while m > 1:\n",
    "    if n % m == 0:\n",
    "        print('not prime')\n",
    "    m = m - 1\n",
    "else:\n",
    "    print('prime')\n"
   ]
  },
  {
   "cell_type": "markdown",
   "metadata": {},
   "source": [
    "## Doubt "
   ]
  },
  {
   "cell_type": "code",
   "execution_count": null,
   "metadata": {},
   "outputs": [
    {
     "name": "stdout",
     "output_type": "stream",
     "text": [
      "9\n",
      "not prime\n"
     ]
    }
   ],
   "source": [
    "n= int(input())\n",
    "d=2\n",
    "flag = False\n",
    "while d<n :\n",
    "    if n%d==0:\n",
    "        flag = True\n",
    "        break\n",
    "    d=d+1\n",
    "     \n",
    "    \n",
    "if flag:\n",
    "    print('not prime')\n",
    "else:\n",
    "    print ('prime')"
   ]
  },
  {
   "cell_type": "code",
   "execution_count": null,
   "metadata": {},
   "outputs": [],
   "source": [
    "n = int(input())\n",
    "d = 2\n",
    "flag = False\n",
    "\n",
    "while d < n:\n",
    "    if n % d == 0:\n",
    "        flag = True\n",
    "        break  # Add a break here to exit the loop if a divisor is found\n",
    "    d = d + 1\n",
    "    \n",
    "if flag:\n",
    "    print('not prime')\n",
    "else:\n",
    "    print('prime')\n"
   ]
  }
 ],
 "metadata": {
  "language_info": {
   "name": "python"
  }
 },
 "nbformat": 4,
 "nbformat_minor": 2
}
